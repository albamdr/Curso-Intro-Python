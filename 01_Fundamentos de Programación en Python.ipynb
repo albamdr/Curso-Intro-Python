{
 "cells": [
  {
   "cell_type": "markdown",
   "id": "40d0d954",
   "metadata": {},
   "source": [
    "## Sección 1: Sintaxis Básica de Python"
   ]
  },
  {
   "cell_type": "markdown",
   "id": "01b2d865",
   "metadata": {},
   "source": [
    "### 1.1 Variables"
   ]
  },
  {
   "cell_type": "markdown",
   "id": "9b911bba",
   "metadata": {},
   "source": [
    "Las variables son contenedores para almacenar información.\n",
    "\n",
    "La asignación es el proceso de guardar información en una variable. Es como poner un valor dentro de una caja con un nombre. \n",
    "\n",
    "La sintaxis básica para asignar un valor a una variable en Python es la siguiente:"
   ]
  },
  {
   "cell_type": "raw",
   "id": "982ee79a",
   "metadata": {},
   "source": [
    "nombre_de_variable = valor"
   ]
  },
  {
   "cell_type": "markdown",
   "id": "612a228b",
   "metadata": {},
   "source": [
    "### 1.2 Tipos de datos"
   ]
  },
  {
   "cell_type": "code",
   "execution_count": null,
   "id": "bd188731",
   "metadata": {},
   "outputs": [],
   "source": [
    "numero_entero = 10       #int\n",
    "numero_decimal = 3.14    #float\n",
    "texto = \"Hola, mundo!\"   #str\n",
    "es_verdadero = True      #bool\n",
    "es_falso = False         #bool"
   ]
  },
  {
   "cell_type": "markdown",
   "id": "53e0cea4",
   "metadata": {},
   "source": [
    "### 1.3 Operaciones aritméticas"
   ]
  },
  {
   "cell_type": "code",
   "execution_count": null,
   "id": "87f62080",
   "metadata": {},
   "outputs": [],
   "source": [
    "suma = 5 + 3\n",
    "resta = 10 - 2\n",
    "multiplicacion = 4 * 6\n",
    "division = 15 / 2\n",
    "exponente = 2 ** 4"
   ]
  },
  {
   "cell_type": "code",
   "execution_count": null,
   "id": "591b2f74",
   "metadata": {},
   "outputs": [],
   "source": [
    "division_entera = 15 // 2\n",
    "modulo = 15 % 2"
   ]
  },
  {
   "cell_type": "markdown",
   "id": "31107e4e",
   "metadata": {},
   "source": [
    "### 1.4 Operaciones de comparación"
   ]
  },
  {
   "cell_type": "markdown",
   "id": "f9d567e8",
   "metadata": {},
   "source": [
    "Las operaciones de comparación son utilizadas para comparar valores y generar booleanos como resultado. Estas operaciones se utilizan para evaluar condiciones y tomar decisiones en un programa. "
   ]
  },
  {
   "cell_type": "code",
   "execution_count": null,
   "id": "e787030e",
   "metadata": {},
   "outputs": [],
   "source": [
    "igual_que = 5 == 3\n",
    "distinto_que = 10 != 2\n",
    "menor = 4 < 6\n",
    "mayor = 4 > 6\n",
    "menor_igual = 4 <= 4\n",
    "mayor_igual = 4 >= 4"
   ]
  },
  {
   "cell_type": "markdown",
   "id": "78fbd951",
   "metadata": {},
   "source": [
    "## Sección 2: Estructuras de datos"
   ]
  },
  {
   "cell_type": "markdown",
   "id": "c4b1279e",
   "metadata": {},
   "source": [
    "### 2.1 Listas"
   ]
  },
  {
   "cell_type": "markdown",
   "id": "c386a8ee",
   "metadata": {},
   "source": [
    "Una lista es una colección ordenada y **modificable** de elementos, donde cada elemento puede ser de cualquier tipo de dato. \n",
    "\n",
    "Sintaxis para crear una lista:"
   ]
  },
  {
   "cell_type": "raw",
   "id": "95065e2b",
   "metadata": {},
   "source": [
    "nombre_lista = [elemento1, elemento2, elemento3, ...]"
   ]
  },
  {
   "cell_type": "markdown",
   "id": "fff2b4bb",
   "metadata": {},
   "source": [
    "Ejemplo:"
   ]
  },
  {
   "cell_type": "code",
   "execution_count": null,
   "id": "de526d98",
   "metadata": {},
   "outputs": [],
   "source": [
    "colores = [\"rojo\", \"verde\", \"azul\"]\n",
    "numeros = [1, 2, 3, 4, 5]"
   ]
  },
  {
   "cell_type": "markdown",
   "id": "bf9c4762",
   "metadata": {},
   "source": [
    "#### Principales funciones y métodos para listas:"
   ]
  },
  {
   "cell_type": "code",
   "execution_count": null,
   "id": "02b6b355",
   "metadata": {},
   "outputs": [],
   "source": [
    "longitud = len(numeros)"
   ]
  },
  {
   "cell_type": "code",
   "execution_count": null,
   "id": "f5bcb7fc",
   "metadata": {},
   "outputs": [],
   "source": [
    "suma = sum(numeros)"
   ]
  },
  {
   "cell_type": "code",
   "execution_count": null,
   "id": "b0ce5223",
   "metadata": {},
   "outputs": [],
   "source": [
    "colores.append(\"amarillo\")"
   ]
  },
  {
   "cell_type": "code",
   "execution_count": null,
   "id": "a1de7b1f",
   "metadata": {},
   "outputs": [],
   "source": [
    "numeros.insert(2, 10)"
   ]
  },
  {
   "cell_type": "code",
   "execution_count": null,
   "id": "9c2f108f",
   "metadata": {},
   "outputs": [],
   "source": [
    "colores.remove(\"amarillo\")"
   ]
  },
  {
   "cell_type": "code",
   "execution_count": null,
   "id": "9c9eff62",
   "metadata": {},
   "outputs": [],
   "source": [
    "numero_eliminado = numeros.pop(2)"
   ]
  },
  {
   "cell_type": "code",
   "execution_count": null,
   "id": "5beeb513",
   "metadata": {},
   "outputs": [],
   "source": [
    "esta_presente = \"rojo\" in colores"
   ]
  },
  {
   "cell_type": "code",
   "execution_count": null,
   "id": "4ad7da9d",
   "metadata": {},
   "outputs": [],
   "source": [
    "indice_verde = colores.index(\"verde\")"
   ]
  },
  {
   "cell_type": "code",
   "execution_count": null,
   "id": "92686935",
   "metadata": {},
   "outputs": [],
   "source": [
    "veces_verde = colores.count(\"verde\")"
   ]
  },
  {
   "cell_type": "code",
   "execution_count": null,
   "id": "3855643a",
   "metadata": {},
   "outputs": [],
   "source": [
    "numeros.sort()"
   ]
  },
  {
   "cell_type": "code",
   "execution_count": null,
   "id": "9fac897b",
   "metadata": {},
   "outputs": [],
   "source": [
    "colores.reverse()"
   ]
  },
  {
   "cell_type": "markdown",
   "id": "259df85e",
   "metadata": {},
   "source": [
    "#### Ejercicio: \n",
    "\n",
    "Dada la lista de calificaciones que aparece en la siguiente celda, calcula la calificación media, usando variables y los métodos y funciones que hemos visto."
   ]
  },
  {
   "cell_type": "code",
   "execution_count": null,
   "id": "dbdbae29",
   "metadata": {},
   "outputs": [],
   "source": [
    "calificaciones = [8.5, 9, 7.8, 9.2, 6.9, 8.8, 7.2]"
   ]
  },
  {
   "cell_type": "markdown",
   "id": "098b38a7",
   "metadata": {},
   "source": [
    "### 2.2 Tuplas"
   ]
  },
  {
   "cell_type": "markdown",
   "id": "80db4299",
   "metadata": {},
   "source": [
    "Colección ordenada e **inmutable** de elementos, donde cada elemento puede ser de cualquier tipo de dato. A diferencia de las listas, las tuplas no pueden ser modificadas después de su creación. \n",
    "\n",
    "Sintaxis para crear una tupla:"
   ]
  },
  {
   "cell_type": "raw",
   "id": "a486c5c6",
   "metadata": {},
   "source": [
    "nombre_tupla = (elemento1, elemento2, elemento3, ...)"
   ]
  },
  {
   "cell_type": "markdown",
   "id": "db32374e",
   "metadata": {},
   "source": [
    "Ejemplo:"
   ]
  },
  {
   "cell_type": "code",
   "execution_count": null,
   "id": "ea9123ef",
   "metadata": {},
   "outputs": [],
   "source": [
    "tupla = (1, 2, 3, 4, 5)"
   ]
  },
  {
   "cell_type": "markdown",
   "id": "e7542bc0",
   "metadata": {},
   "source": [
    "#### Principales funciones y métodos para tuplas:"
   ]
  },
  {
   "cell_type": "code",
   "execution_count": null,
   "id": "9818380d",
   "metadata": {},
   "outputs": [],
   "source": [
    "longitud = len(tupla)  "
   ]
  },
  {
   "cell_type": "code",
   "execution_count": null,
   "id": "c77a1cb4",
   "metadata": {},
   "outputs": [],
   "source": [
    "lista_ordenada = sorted(tupla)"
   ]
  },
  {
   "cell_type": "code",
   "execution_count": null,
   "id": "b8dbdd9a",
   "metadata": {},
   "outputs": [],
   "source": [
    "indice = tupla.index(1) "
   ]
  },
  {
   "cell_type": "code",
   "execution_count": null,
   "id": "63277b2a",
   "metadata": {},
   "outputs": [],
   "source": [
    "cantidad = tupla.count(2) "
   ]
  },
  {
   "cell_type": "markdown",
   "id": "18867f76",
   "metadata": {},
   "source": [
    "### Acceso a elementos de listas y tuplas:\n",
    "\n",
    "Puedes acceder a elementos específicos dentro de listas y tuplas utilizando **índices**. \n",
    "\n",
    "Los índices comienzan desde **`0`** para el primer elemento y aumentan de manera secuencial. \n",
    "\n",
    "También puedes utilizar **índices negativos** para acceder a elementos desde el final de la colección."
   ]
  },
  {
   "cell_type": "code",
   "execution_count": null,
   "id": "9a871ad4",
   "metadata": {},
   "outputs": [],
   "source": [
    "frutas = [\"manzana\", \"banana\", \"kiwi\"]"
   ]
  },
  {
   "cell_type": "code",
   "execution_count": null,
   "id": "90e613ac",
   "metadata": {},
   "outputs": [],
   "source": [
    "frutas[0]"
   ]
  },
  {
   "cell_type": "code",
   "execution_count": null,
   "id": "f411993a",
   "metadata": {},
   "outputs": [],
   "source": [
    "frutas[1]"
   ]
  },
  {
   "cell_type": "code",
   "execution_count": null,
   "id": "2da65048",
   "metadata": {},
   "outputs": [],
   "source": [
    "frutas[-1]"
   ]
  },
  {
   "cell_type": "markdown",
   "id": "83cac9ae",
   "metadata": {},
   "source": [
    "### 2.3 Diccionarios"
   ]
  },
  {
   "cell_type": "markdown",
   "id": "ae48e089",
   "metadata": {},
   "source": [
    "Estructuras de datos que almacenan pares **clave-valor**.\n",
    "Cada clave debe ser **única** y está asociada a un valor específico. \n",
    "\n",
    "Los diccionarios son útiles para mapear información y recuperar valores basados en una clave en lugar de un índice. \n",
    "\n",
    "Sintaxis para crear un diccionario:"
   ]
  },
  {
   "cell_type": "raw",
   "id": "c8d2038c",
   "metadata": {},
   "source": [
    "nombre_diccionario = {\n",
    "    \"clave1\": valor1,\n",
    "    \"clave2\": valor2,\n",
    "    \"clave3\": valor3,\n",
    "    ...\n",
    "}"
   ]
  },
  {
   "cell_type": "markdown",
   "id": "b73f9c87",
   "metadata": {},
   "source": [
    "Ejemplo:"
   ]
  },
  {
   "cell_type": "code",
   "execution_count": null,
   "id": "99422553",
   "metadata": {},
   "outputs": [],
   "source": [
    "alumno = {\"nombre\": \"Carlos\", \"edad\": 22, \"carrera\": \"Informática\"}"
   ]
  },
  {
   "cell_type": "markdown",
   "id": "d5e1c002",
   "metadata": {},
   "source": [
    "Puedes acceder a los valores de un diccionario utilizando sus claves entre corchetes."
   ]
  },
  {
   "cell_type": "code",
   "execution_count": null,
   "id": "d4d0a861",
   "metadata": {},
   "outputs": [],
   "source": [
    "nombre = alumno[\"nombre\"]\n",
    "edad = alumno[\"edad\"]"
   ]
  },
  {
   "cell_type": "markdown",
   "id": "207a0aec",
   "metadata": {},
   "source": [
    "#### Ejercicio: \n",
    "\n",
    "Utilizando el diccionario que aparece en la celda siguiente,\n",
    "\n",
    "    1) Crea una variable con el número de Ana.\n",
    "    2) Modifica el número de Carlos a \"777-888-9999\".\n",
    "    3) Añade un nuevo contancto que se llame Laura con número \"123-123-1234\".\n",
    "    4) Muestra el nuevo diccionario contactos con las modificaciones anteriores."
   ]
  },
  {
   "cell_type": "code",
   "execution_count": null,
   "id": "bb950c2c",
   "metadata": {},
   "outputs": [],
   "source": [
    "contactos = {\n",
    "    \"Jose\": \"123-456-7890\",\n",
    "    \"Ana\": \"987-654-3210\",\n",
    "    \"Carlos\": \"555-555-5555\"\n",
    "}"
   ]
  },
  {
   "cell_type": "markdown",
   "id": "223ba1b5",
   "metadata": {},
   "source": [
    "### 2.4 Conjuntos\n",
    "\n",
    "Los conjuntos son colecciones **desordenadas y no indexadas** de elementos únicos (no hay duplicados). \n",
    "Se utilizan para eliminar duplicados y realizar operaciones matemáticas como unión, intersección y diferencia entre conjuntos.\n",
    "\n",
    "Sintaxis para crear un conjunto:"
   ]
  },
  {
   "cell_type": "raw",
   "id": "d14f8c5c",
   "metadata": {},
   "source": [
    "nombre_conjunto = {elemento1, elemento2, elemento3, ...}"
   ]
  },
  {
   "cell_type": "markdown",
   "id": "d0e607bc",
   "metadata": {},
   "source": [
    "Ejemplo:"
   ]
  },
  {
   "cell_type": "code",
   "execution_count": null,
   "id": "108d97be",
   "metadata": {},
   "outputs": [],
   "source": [
    "colores = {\"rojo\", \"verde\", \"azul\"}\n",
    "numeros = set([1, 2, 3, 4, 5])"
   ]
  },
  {
   "cell_type": "markdown",
   "id": "4cad613c",
   "metadata": {},
   "source": [
    "#### Principales funciones y métodos para tuplas:"
   ]
  },
  {
   "cell_type": "code",
   "execution_count": null,
   "id": "d5403c8b",
   "metadata": {},
   "outputs": [],
   "source": [
    "numeros.add(4) "
   ]
  },
  {
   "cell_type": "code",
   "execution_count": null,
   "id": "d63fdca7",
   "metadata": {},
   "outputs": [],
   "source": [
    "numeros.remove(3)"
   ]
  },
  {
   "cell_type": "code",
   "execution_count": null,
   "id": "898c9a4a",
   "metadata": {},
   "outputs": [],
   "source": [
    "numeros.discard(8)"
   ]
  },
  {
   "cell_type": "code",
   "execution_count": null,
   "id": "16f49751",
   "metadata": {},
   "outputs": [],
   "source": [
    "longitud = len(numeros) "
   ]
  },
  {
   "cell_type": "markdown",
   "id": "bf787f23",
   "metadata": {},
   "source": [
    "**Acceso a valores en un conjunto:**\n",
    "\n",
    "Debido a que los conjuntos no están indexados, no puedes acceder a elementos individuales como lo harías en una lista. Sin embargo, puedes verificar si un elemento está en el conjunto utilizando el operador `in`."
   ]
  },
  {
   "cell_type": "code",
   "execution_count": null,
   "id": "60ef56d1",
   "metadata": {},
   "outputs": [],
   "source": [
    "esta_rojo = \"rojo\" in colores"
   ]
  },
  {
   "cell_type": "code",
   "execution_count": null,
   "id": "ff41f45e",
   "metadata": {},
   "outputs": [],
   "source": [
    "esta_amarillo = \"amarillo\" in colores"
   ]
  },
  {
   "cell_type": "markdown",
   "id": "3a20b9ec",
   "metadata": {},
   "source": [
    "#### Operaciones con conjuntos"
   ]
  },
  {
   "cell_type": "code",
   "execution_count": null,
   "id": "2e3f98ec",
   "metadata": {},
   "outputs": [],
   "source": [
    "A = {1, 2, 3, 4, 5}\n",
    "B = {4, 5, 6, 7, 8}"
   ]
  },
  {
   "cell_type": "code",
   "execution_count": null,
   "id": "74e28342",
   "metadata": {},
   "outputs": [],
   "source": [
    "union_ab = A.union(B)"
   ]
  },
  {
   "cell_type": "code",
   "execution_count": null,
   "id": "b1de5027",
   "metadata": {},
   "outputs": [],
   "source": [
    "union_ab_2 = A | B"
   ]
  },
  {
   "cell_type": "code",
   "execution_count": null,
   "id": "de2b0d7d",
   "metadata": {},
   "outputs": [],
   "source": [
    "interseccion_ab = A.intersection(B)"
   ]
  },
  {
   "cell_type": "code",
   "execution_count": null,
   "id": "da5b283b",
   "metadata": {},
   "outputs": [],
   "source": [
    "interseccion_ab_2 = A & B"
   ]
  },
  {
   "cell_type": "code",
   "execution_count": null,
   "id": "f4bd647a",
   "metadata": {},
   "outputs": [],
   "source": [
    "diferencia_ab = A.difference(B)"
   ]
  },
  {
   "cell_type": "code",
   "execution_count": null,
   "id": "0ef47c4b",
   "metadata": {},
   "outputs": [],
   "source": [
    "diferencia_ab_2 = A - B"
   ]
  },
  {
   "cell_type": "markdown",
   "id": "5fdd5df0",
   "metadata": {},
   "source": [
    "#### Ejercicio: \n",
    "\n",
    "Dados los conjuntos de miembros de dos clubs distintos de la celda siguiente,\n",
    "\n",
    "    1) Añade a \"Pedro\" al conjunto de miembros del club 1.\n",
    "    2) Elimina a \"Carlos\" del conjunto de miembros del club 2.\n",
    "    3) Verifica si \"Ana\" es un miembro del club 1 o del 2.\n",
    "    4) Encuentra la intersección entre el conjunto de miembros de ambos clubes.\n",
    "    5) Muestra los conjuntos de miembros actualizados.\n"
   ]
  },
  {
   "cell_type": "code",
   "execution_count": null,
   "id": "3f0873c8",
   "metadata": {},
   "outputs": [],
   "source": [
    "miembros_club1 = {\"Juan\", \"María\", \"Carlos\", \"Luisa\", \"Ana\", \"Laura\", \"Pepe\"}\n",
    "miembros_club2 = {\"Carlos\", \"Laura\", \"Pepe\", \"Jose\"}"
   ]
  },
  {
   "cell_type": "code",
   "execution_count": null,
   "id": "be50e73f",
   "metadata": {},
   "outputs": [],
   "source": []
  }
 ],
 "metadata": {
  "kernelspec": {
   "display_name": "Python 3 (ipykernel)",
   "language": "python",
   "name": "python3"
  },
  "language_info": {
   "codemirror_mode": {
    "name": "ipython",
    "version": 3
   },
   "file_extension": ".py",
   "mimetype": "text/x-python",
   "name": "python",
   "nbconvert_exporter": "python",
   "pygments_lexer": "ipython3",
   "version": "3.9.13"
  }
 },
 "nbformat": 4,
 "nbformat_minor": 5
}
