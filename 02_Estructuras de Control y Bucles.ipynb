{
 "cells": [
  {
   "cell_type": "markdown",
   "id": "e525ba2a",
   "metadata": {},
   "source": [
    "### Sección 3: Estructuras de Control y Bucles"
   ]
  },
  {
   "cell_type": "markdown",
   "id": "46a105ed",
   "metadata": {},
   "source": [
    "#### 3.1 Estructuras condicionales\n",
    "\n",
    "Las estructuras condicionales te permiten tomar decisiones en tu programa según ciertas condiciones. \n",
    "\n",
    "En Python, la estructura condicional básica se define con las palabras clave`if`, `elif` (opcional) y `else` (opcional)."
   ]
  },
  {
   "cell_type": "markdown",
   "id": "b7c6caa4",
   "metadata": {},
   "source": [
    "```python\n",
    "if condicion:\n",
    "    # Bloque de código si la condición es verdadera\n",
    "```"
   ]
  },
  {
   "cell_type": "markdown",
   "id": "ff5e06f2",
   "metadata": {},
   "source": [
    "```python\n",
    "if condicion:\n",
    "    # Bloque de código si la condición es verdadera\n",
    "elif otra_condicion:\n",
    "    # Bloque de código si la otra condición es verdadera\n",
    "```"
   ]
  },
  {
   "cell_type": "markdown",
   "id": "c996ab7e",
   "metadata": {},
   "source": [
    "```python\n",
    "if condicion:\n",
    "    # Bloque de código si la condición es verdadera\n",
    "else:\n",
    "    # Bloque de código si ninguna de las condiciones anteriores es verdadera\n",
    "```"
   ]
  },
  {
   "cell_type": "markdown",
   "id": "195be3d9",
   "metadata": {},
   "source": [
    "**Función `print()`:**\n",
    "\n",
    "La función `print()` en Python se utiliza para mostrar información en la consola o terminal. "
   ]
  },
  {
   "cell_type": "markdown",
   "id": "dc0becfd",
   "metadata": {},
   "source": [
    "**Ejemplo:**"
   ]
  },
  {
   "cell_type": "code",
   "execution_count": null,
   "id": "a98b3422",
   "metadata": {},
   "outputs": [],
   "source": [
    "edad = 18\n",
    "\n",
    "if edad < 18:\n",
    "    print(\"Eres menor de edad.\")\n",
    "elif edad == 18:\n",
    "    print(\"Tienes 18 años.\")\n",
    "else:\n",
    "    print(\"Eres mayor de edad.\")"
   ]
  },
  {
   "cell_type": "markdown",
   "id": "22f6a4e5",
   "metadata": {},
   "source": [
    "**Función `input()`:**\n",
    "\n",
    "La función `input()` en Python se utiliza para obtener datos de entrada del usuario a través del teclado."
   ]
  },
  {
   "cell_type": "markdown",
   "id": "301fd9bd",
   "metadata": {},
   "source": [
    "**Ejercicio:**\n",
    "    \n",
    "Escribe un programa que determine si un número ingresado por el usuario es positivo, negativo o igual a cero."
   ]
  },
  {
   "cell_type": "code",
   "execution_count": null,
   "id": "5ee854b3",
   "metadata": {},
   "outputs": [],
   "source": [
    "numero = float(input(\"Ingrese un número: \"))\n",
    "\n"
   ]
  },
  {
   "cell_type": "markdown",
   "id": "758cef9e",
   "metadata": {},
   "source": [
    "**Ejercicio:**\n",
    "\n",
    "Dada la variable `salario_anual`, que pediremos al usuario por pantalla, calcule el impuesto sobre la renta que debe pagar según las siguientes reglas:\n",
    "\n",
    "- Si el salario anual es menor o igual a 10,000€, el impuesto es del 5% del salario.\n",
    "- Si el salario anual está entre 10,001€ y 50,000€, el impuesto es del 10% del salario.\n",
    "- Si el salario anual es mayor a 50,000€, el impuesto es del 20% del salario.\n"
   ]
  },
  {
   "cell_type": "code",
   "execution_count": null,
   "id": "6f40b620",
   "metadata": {},
   "outputs": [],
   "source": [
    "salario_anual = float(input(\"Ingrese su salario anual: \"))\n",
    "\n"
   ]
  },
  {
   "cell_type": "markdown",
   "id": "95bdc8dc",
   "metadata": {},
   "source": [
    "#### 3.2 Bucles for"
   ]
  },
  {
   "cell_type": "markdown",
   "id": "1b119716",
   "metadata": {},
   "source": [
    "Los bucles for se utilizan para iterar sobre una secuencia de elementos (como una lista, tupla o rango) y ejecutar un bloque de código para cada elemento."
   ]
  },
  {
   "cell_type": "markdown",
   "id": "c4498223",
   "metadata": {},
   "source": [
    "```python\n",
    "for elemento in secuencia:\n",
    "    # Bloque de código a ejecutar para cada elemento\n",
    "```"
   ]
  },
  {
   "cell_type": "markdown",
   "id": "e01587c2",
   "metadata": {},
   "source": [
    "**Ejemplo:**"
   ]
  },
  {
   "cell_type": "code",
   "execution_count": null,
   "id": "eb520977",
   "metadata": {},
   "outputs": [],
   "source": [
    "frutas = [\"manzana\", \"banana\", \"kiwi\"]\n",
    "\n",
    "for fruta in frutas:\n",
    "    print(fruta)"
   ]
  },
  {
   "cell_type": "markdown",
   "id": "deb70c6e",
   "metadata": {},
   "source": [
    "**Función `range()`:**\n",
    "\n",
    "La función **`range()`** en Python se utiliza para generar una secuencia de números enteros en un rango específico. Es comúnmente utilizada en bucles **`for`** para controlar la cantidad de iteraciones.\n",
    "\n",
    "- **Sintaxis:** La sintaxis básica de **`range()`** es la siguiente:\n",
    "    \n",
    "    ```python \n",
    "        range(stop)\n",
    "    ```\n",
    "    \n",
    " Donde **`stop`** (argumento obligatorio) es el número hasta el cual quieres generar la secuencia de números. La secuencia comienza desde 0 y llega hasta **`stop - 1`**.\n",
    " \n",
    " También se puede especificar dónde quieres que empiece a contar utilizando un primer argumento **`start`** (opcional), anterior a **`stop`**:\n",
    " \n",
    "```python         \n",
    "   range(start,stop)\n",
    "   ```"
   ]
  },
  {
   "cell_type": "code",
   "execution_count": null,
   "id": "1e79b552",
   "metadata": {},
   "outputs": [],
   "source": [
    "list(range(20))"
   ]
  },
  {
   "cell_type": "code",
   "execution_count": null,
   "id": "4f4e7944",
   "metadata": {},
   "outputs": [],
   "source": [
    "list(range(5,20))"
   ]
  },
  {
   "cell_type": "markdown",
   "id": "09da5602",
   "metadata": {},
   "source": [
    "**Ejercicio:**\n",
    "    \n",
    "Supongamos que tienes una inversión con una tasa de interés anual del 5%. Calcula el valor de tu inversión después de un cierto número de años y muestra el crecimiento de la inversión año tras año."
   ]
  },
  {
   "cell_type": "code",
   "execution_count": null,
   "id": "1bd66979",
   "metadata": {},
   "outputs": [],
   "source": [
    "numero_años = \n",
    "\n"
   ]
  },
  {
   "cell_type": "markdown",
   "id": "9695855d",
   "metadata": {},
   "source": [
    "**Listas de Comprensión**\n",
    "\n",
    "Son una forma concisa de crear listas. Crea listas utilizando una sintaxis compacta y elegante.\n",
    "    \n",
    "La sintaxis básica de una lista de comprensión en Python es la siguiente:\n",
    "```python\n",
    "nueva_lista = [expresion for elemento in secuencia]\n",
    "```"
   ]
  },
  {
   "cell_type": "markdown",
   "id": "235842f2",
   "metadata": {},
   "source": [
    "**Ejercicio:**\n",
    "    \n",
    "Escribe una lista de comprensión que genere una lista de números pares del 1 al 20."
   ]
  },
  {
   "cell_type": "code",
   "execution_count": null,
   "id": "95168d28",
   "metadata": {},
   "outputs": [],
   "source": []
  },
  {
   "cell_type": "markdown",
   "id": "89b01d1b",
   "metadata": {},
   "source": [
    "#### 3.3 Bucles while"
   ]
  },
  {
   "cell_type": "markdown",
   "id": "b106727a",
   "metadata": {},
   "source": [
    "Los bucles while se utilizan para ejecutar un bloque de código mientras una condición sea verdadera.\n",
    "\n",
    "¡OJO! Es importante asegurarse de que la condición se vuelva falsa en algún momento para **evitar bucles infinitos.**"
   ]
  },
  {
   "cell_type": "markdown",
   "id": "afdd01a4",
   "metadata": {},
   "source": [
    "```python\n",
    "while condicion:\n",
    "    # Bloque de código a ejecutar mientras la condición sea verdadera\n",
    "```"
   ]
  },
  {
   "cell_type": "markdown",
   "id": "1edc41ea",
   "metadata": {},
   "source": [
    "**Ejemplo:**"
   ]
  },
  {
   "cell_type": "code",
   "execution_count": null,
   "id": "454e9e92",
   "metadata": {},
   "outputs": [],
   "source": [
    "contador = 0\n",
    "while contador < 5:\n",
    "    print(\"Contador:\", contador)\n",
    "    contador += 1"
   ]
  },
  {
   "cell_type": "markdown",
   "id": "3fcaa16a",
   "metadata": {},
   "source": [
    "**Ejercicio:** \n",
    "\n",
    "Escribe un programa en Python que simule un contador de ahorro semanal. El programa debe solicitar al usuario que ingrese la cantidad que ahorrará cada semana y cuántas semanas desea ahorrar. \n",
    "Luego, calcula y muestra el ahorro que obtiene cada semana."
   ]
  },
  {
   "cell_type": "code",
   "execution_count": null,
   "id": "c90c8319",
   "metadata": {},
   "outputs": [],
   "source": [
    "ahorro_semanal = float(input(\"Ingrese la cantidad que ahorrará cada semana en euros: €\"))\n",
    "semanas = int(input(\"Ingrese la cantidad de semanas que desea ahorrar: \"))\n",
    "\n"
   ]
  }
 ],
 "metadata": {
  "kernelspec": {
   "display_name": "Python 3 (ipykernel)",
   "language": "python",
   "name": "python3"
  },
  "language_info": {
   "codemirror_mode": {
    "name": "ipython",
    "version": 3
   },
   "file_extension": ".py",
   "mimetype": "text/x-python",
   "name": "python",
   "nbconvert_exporter": "python",
   "pygments_lexer": "ipython3",
   "version": "3.9.13"
  }
 },
 "nbformat": 4,
 "nbformat_minor": 5
}
