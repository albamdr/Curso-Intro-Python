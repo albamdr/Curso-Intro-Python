{
 "cells": [
  {
   "cell_type": "markdown",
   "id": "5f53c091",
   "metadata": {},
   "source": [
    "### Sección 4: Funciones"
   ]
  },
  {
   "cell_type": "markdown",
   "id": "c56c1ed3",
   "metadata": {},
   "source": [
    "Una función en Python es un bloque de código reutilizable que realiza una tarea específica. Permite agrupar un conjunto de instrucciones para que puedan ser llamadas y ejecutadas en cualquier parte del programa. Las funciones toman argumentos como entrada, realizan ciertas operaciones y pueden devo"
   ]
  },
  {
   "cell_type": "markdown",
   "id": "0059b6e8",
   "metadata": {},
   "source": [
    "#### **Sintaxis de una función:**\n",
    "\n",
    "```python\n",
    "def nombre_funcion(argumento1, argumento2, ...):\n",
    "    # Cuerpo de la función\n",
    "    resultado = ...\n",
    "    return resultado\n",
    "```\n",
    "\n",
    "- **`def`**: Palabra clave para definir una función.\n",
    "- **`nombre_funcion`**: Nombre descriptivo de la función.\n",
    "- **`(argumento1, argumento2, ...)`**: Parámetros que la función puede recibir (opcional).\n",
    "- **`:`**: Dos puntos indicando el inicio del cuerpo de la función.\n",
    "- **`return resultado`**: Devuelve un valor opcional al final de la función.\n",
    "\n",
    "**Ejemplo:**"
   ]
  },
  {
   "cell_type": "code",
   "execution_count": 1,
   "id": "e3af56c5",
   "metadata": {},
   "outputs": [],
   "source": [
    "def suma(a, b):\n",
    "    resultado = a + b\n",
    "    return resultado"
   ]
  },
  {
   "cell_type": "code",
   "execution_count": 2,
   "id": "c137d59b",
   "metadata": {},
   "outputs": [
    {
     "data": {
      "text/plain": [
       "6"
      ]
     },
     "execution_count": 2,
     "metadata": {},
     "output_type": "execute_result"
    }
   ],
   "source": [
    "suma(4,2)"
   ]
  },
  {
   "cell_type": "markdown",
   "id": "a8aa4259",
   "metadata": {},
   "source": [
    "**Funciones predefinidas comunes en Python:**\n",
    "\n",
    "Python tiene muchas funciones predefinidas que son ampliamente utilizadas. Algunas de las más comunes incluyen:\n",
    "\n",
    "- **`input()`**: Lee una entrada del usuario desde la consola.\n",
    "- **`print()`**: Muestra información en la consola.\n",
    "- **`len()`**: Devuelve la longitud de una secuencia (cadena, lista, etc.).\n",
    "- **`max()`**, **`min()`**: Encuentran el valor máximo o mínimo en una secuencia.\n",
    "- **`sorted()`**: Ordena una secuencia.\n",
    "- **`range()`**: Genera una secuencia de números.\n",
    "- **`str()`**, **`int()`**, **`float()`**: Convierten valores a diferentes tipos de datos.\n",
    "\n"
   ]
  },
  {
   "cell_type": "markdown",
   "id": "96a1ac68",
   "metadata": {},
   "source": [
    "**Ejercicio: salario anual**\n",
    "\n",
    "Define una función cuyo parámetro sea el salario anual, aplica el impuesto sobre la renta que debe pagar según las siguientes reglas:\n",
    "\n",
    "- Si el salario anual es menor o igual a 10,000€, el impuesto es del 5% del salario.\n",
    "- Si el salario anual está entre 10,001€ y 50,000€, el impuesto es del 10% del salario.\n",
    "- Si el salario anual es mayor a 50,000€, el impuesto es del 20% del salario.\n",
    "\n",
    "Y devuelve el salario neto final."
   ]
  },
  {
   "cell_type": "code",
   "execution_count": null,
   "id": "703b18f5",
   "metadata": {},
   "outputs": [],
   "source": []
  },
  {
   "cell_type": "code",
   "execution_count": null,
   "id": "9a60e3ad",
   "metadata": {},
   "outputs": [],
   "source": []
  },
  {
   "cell_type": "markdown",
   "id": "b4502359",
   "metadata": {},
   "source": [
    "**Ejercicio: inversión**\n",
    "    \n",
    "Supongamos que tienes una inversión con una tasa de interés anual del 5%. Define una función que devuelva el valor de tu inversión después de un cierto número de años y muestra el crecimiento de la inversión año tras año."
   ]
  },
  {
   "cell_type": "code",
   "execution_count": null,
   "id": "c7db36ba",
   "metadata": {},
   "outputs": [],
   "source": []
  },
  {
   "cell_type": "code",
   "execution_count": null,
   "id": "8fc90df9",
   "metadata": {},
   "outputs": [],
   "source": []
  },
  {
   "cell_type": "markdown",
   "id": "91fc59d7",
   "metadata": {},
   "source": [
    "**Ejercicio: contador de ahorro semanal**\n",
    "\n",
    "Define una función cuyos parámetros sean la cantidad de ahorro por semana y el número de semanas que desea ahorrar. Calcula y muestra el ahorro que obtiene cada semana. Devuelve como resultado el ahorro final."
   ]
  },
  {
   "cell_type": "code",
   "execution_count": null,
   "id": "3c00a664",
   "metadata": {},
   "outputs": [],
   "source": []
  },
  {
   "cell_type": "code",
   "execution_count": null,
   "id": "c7e7ab88",
   "metadata": {},
   "outputs": [],
   "source": []
  },
  {
   "cell_type": "markdown",
   "id": "83bc2ac6",
   "metadata": {},
   "source": [
    "### Sección 5: Clases"
   ]
  },
  {
   "cell_type": "markdown",
   "id": "626879b3",
   "metadata": {},
   "source": [
    "En la programación, las clases son una piedra angular de la Programación Orientada a Objetos (POO), un paradigma que se centra en modelar el mundo real a través de objetos y sus interacciones. \n",
    "Una clase es como un plano o una plantilla que define cómo se deben crear los objetos y qué propiedades y comportamientos tendrán.\n",
    "\n",
    "**¿Qué es una Clase?**\n",
    "\n",
    "Una clase en Python es una estructura de datos que combina datos (atributos) y funciones (métodos) en una sola unidad. Los atributos representan las características o propiedades de los objetos, mientras que los métodos definen las operaciones o acciones que los objetos pueden realizar. Las clases son como moldes que permiten crear objetos con características y funcionalidades específicas.\n",
    "\n",
    "**¿Por qué Usar Clases?**\n",
    "\n",
    "La programación orientada a objetos ofrece varias ventajas:\n",
    "\n",
    "1. **Abstracción:** Permite modelar objetos del mundo real de manera más natural y comprensible en el código.\n",
    "2. **Reutilización de Código:** Puedes crear clases reutilizables que ahorren tiempo y esfuerzo al aprovechar el código existente.\n",
    "3. **Organización:** Las clases ayudan a organizar y estructurar mejor el código, lo que facilita el mantenimiento y la colaboración en proyectos grandes.\n",
    "\n",
    "**Sintaxis Básica de una Clase:** La definición de una clase en Python sigue esta estructura:\n",
    "\n",
    "```python\n",
    "class NombreDeLaClase:\n",
    "    def __init__(self, parametro1, parametro2):\n",
    "        self.atributo1 = parametro1\n",
    "        self.atributo2 = parametro2\n",
    "\n",
    "    def metodo(self):\n",
    "        # Código del método\n",
    "```\n",
    "\n",
    "- **`class NombreDeLaClase:`**: Define una nueva clase llamada **`NombreDeLaClase`**.\n",
    "- **`def __init__(self, parametro1, parametro2)`**: El método **`__init__`** es el constructor de la clase y se llama cuando se crea un nuevo objeto. Aquí se definen los atributos iniciales del objeto.\n",
    "- **`self`**: Se refiere al propio objeto y se utiliza para acceder a sus atributos y métodos.\n",
    "- **`def metodo(self)`**: Define un método que puede realizar acciones relacionadas con la clase.\n",
    "\n",
    "**Creación de Objetos:**\n",
    "\n",
    "Para crear un objeto de una clase, simplemente se llama al nombre de la clase como si fuera una función:\n",
    "\n",
    "```python\n",
    "mi_objeto = NombreDeLaClase(parametro1, parametro2)\n",
    "```\n",
    "\n",
    "**Acceso a Atributos y Métodos:**\n",
    "\n",
    "Los atributos y métodos de un objeto se acceden utilizando la notación de punto:\n",
    "\n",
    "```python\n",
    "valor = mi_objeto.atributo1\n",
    "mi_objeto.metodo()\n",
    "```\n",
    "\n",
    "**Ejemplo de Clase en Python:**\n",
    "\n",
    "Aquí hay un ejemplo práctico de una clase **`Persona`**:"
   ]
  },
  {
   "cell_type": "code",
   "execution_count": 3,
   "id": "5415d58d",
   "metadata": {},
   "outputs": [],
   "source": [
    "class Persona:\n",
    "    def __init__(self, nombre, edad):\n",
    "        self.nombre = nombre\n",
    "        self.edad = edad\n",
    "\n",
    "    def saludar(self):\n",
    "        print(f\"Hola, soy {self.nombre} y tengo {self.edad} años.\")"
   ]
  },
  {
   "cell_type": "code",
   "execution_count": 4,
   "id": "27d26e0b",
   "metadata": {},
   "outputs": [],
   "source": [
    "# Crear un objeto de la clase Persona\n",
    "persona1 = Persona(\"Alice\", 30)"
   ]
  },
  {
   "cell_type": "code",
   "execution_count": 6,
   "id": "3a4c6484",
   "metadata": {},
   "outputs": [
    {
     "data": {
      "text/plain": [
       "'Alice'"
      ]
     },
     "execution_count": 6,
     "metadata": {},
     "output_type": "execute_result"
    }
   ],
   "source": [
    "# Acceder a atributos y métodos\n",
    "persona1.nombre"
   ]
  },
  {
   "cell_type": "code",
   "execution_count": 7,
   "id": "8c1b1f55",
   "metadata": {},
   "outputs": [
    {
     "name": "stdout",
     "output_type": "stream",
     "text": [
      "Hola, soy Alice y tengo 30 años.\n"
     ]
    }
   ],
   "source": [
    "persona1.saludar()        "
   ]
  },
  {
   "cell_type": "markdown",
   "id": "d5dd1cf4",
   "metadata": {},
   "source": [
    "### **Sección 6: Módulos**\n",
    "\n",
    "Un módulo en Python es un **archivo** (**`.py`**) que contiene definiciones de variables, funciones y clases que están relacionados y tienen utilidad entre ellos. Estos módulos se utilizan para organizar y reutilizar el código. \n",
    "\n",
    "Cada archivo **`.py`** en Python se considera un módulo, y puedes importar sus contenidos en otros archivos para utilizarlos.\n",
    "\n",
    " **Importar un Módulo:**\n",
    "\n",
    "Puedes importar un módulo en otro archivo utilizando la palabra clave **`import`**.\n",
    "\n",
    "```python\n",
    "import nombre_del_modulo\n",
    "```\n",
    "\n",
    "**Usar Contenidos de un Módulo:**\n",
    "\n",
    "Una vez que hayas importado un módulo, puedes acceder a sus variables, funciones y clases utilizando la notación de punto.\n",
    "\n",
    "```python\n",
    "nombre_del_modulo.variable\n",
    "nombre_del_modulo.funcion()\n",
    "nombre_del_modulo.Clase()\n",
    "```\n",
    "\n",
    "**Ejemplo de Uso de un Módulo:**\n",
    "\n",
    "Supongamos que tienes un archivo llamado **`calculadora.py`** que contiene funciones matemáticas:\n",
    "\n",
    "```python\n",
    "\n",
    "# calculadora.py\n",
    "\n",
    "def suma(a, b):\n",
    "    return a + b\n",
    "\n",
    "def resta(a, b):\n",
    "    return a - b\n",
    "```\n",
    "\n",
    "Puedes importar y utilizar estas funciones en otro archivo:\n",
    "\n",
    "```python\n",
    "import calculadora\n",
    "\n",
    "resultado = calculadora.suma(5, 3)\n",
    "print(resultado)  # Resultado: 8\n",
    "```\n",
    "\n",
    "**Importar Contenido de Módulos de Forma Conveniente**\n",
    "\n",
    "Cuando trabajamos con módulos, es posible importar contenido específico de manera más cómoda y menos repetitiva. \n",
    "\n",
    "La declaración **`from modulo import contenido`** nos permite acceder directamente a variables, funciones y clases de un módulo sin tener que repetir el nombre del módulo cada vez que las utilizamos.\n",
    "\n",
    "**Importar Variables, Funciones y Clases de un Módulo:**\n",
    "\n",
    "Supongamos que tienes un módulo llamado **`utilidades`** que contiene varias funciones y una clase:\n",
    "\n",
    "```python\n",
    "# utilidades.py\n",
    "\n",
    "def funcion1():\n",
    "    #contenido de la funcion1\n",
    "\n",
    "def funcion2():\n",
    "    #contenido de la funcion2\n",
    "\n",
    "class MiClase:\n",
    "    #contenido de MiClase\n",
    "```\n",
    "\n",
    "En lugar de importar todo el módulo y utilizar las funciones y la clase con el prefijo del nombre del módulo, puedes utilizar\n",
    "\n",
    "**`from utilidades import funcion1, funcion2, MiClase`** \n",
    "\n",
    "para acceder directamente a lo que necesitas:\n",
    "\n",
    "```python\n",
    "from utilidades import funcion1, funcion2, MiClase\n",
    "\n",
    "objeto = MiClase()\n",
    "funcion1()\n",
    "```"
   ]
  },
  {
   "cell_type": "markdown",
   "id": "7c2aae2d",
   "metadata": {},
   "source": [
    "### **Sección 7: Librerías (Bibliotecas)**\n",
    "\n",
    "Una librería (también conocida como biblioteca) en Python es un **conjunto de módulos predefinidos** que proporcionan funciones y herramientas específicas para tareas comunes. Las librerías permiten a los desarrolladores aprovechar el trabajo ya realizado por otros para acelerar el proceso de desarrollo.\n",
    "\n",
    "**Importar una Librería:**\n",
    "\n",
    "Puedes importar una librería utilizando la palabra clave **`import`**. Algunas librerías populares incluyen **`math`**, **`random`**, **`os`**, **`datetime`**, **`numpy`**, **`pandas`**, entre otras.\n",
    "\n",
    "```python\n",
    "import nombre_de_libreria\n",
    "```\n",
    "\n",
    "**Usar Contenidos de una Librería:**\n",
    "\n",
    "Una vez que hayas importado una librería, puedes acceder a sus módulos, funciones y clases utilizando la notación de punto.\n",
    "\n",
    "```python\n",
    "nombre_de_libreria.nombre_del_modulo.funcion()\n",
    "```\n",
    "\n",
    "**Ejemplo de Uso de una Librería:**\n",
    "\n",
    "Supongamos que quieres usar la librería **`math`** para calcular la raíz cuadrada de un número:\n",
    "\n",
    "```python\n",
    "import math\n",
    "\n",
    "numero = 16\n",
    "raiz_cuadrada = math.sqrt(numero)\n",
    "print(raiz_cuadrada)  # Resultado: 4.0\n",
    "```"
   ]
  },
  {
   "cell_type": "code",
   "execution_count": null,
   "id": "a7ae3402",
   "metadata": {},
   "outputs": [],
   "source": []
  }
 ],
 "metadata": {
  "kernelspec": {
   "display_name": "Python 3 (ipykernel)",
   "language": "python",
   "name": "python3"
  },
  "language_info": {
   "codemirror_mode": {
    "name": "ipython",
    "version": 3
   },
   "file_extension": ".py",
   "mimetype": "text/x-python",
   "name": "python",
   "nbconvert_exporter": "python",
   "pygments_lexer": "ipython3",
   "version": "3.9.18"
  }
 },
 "nbformat": 4,
 "nbformat_minor": 5
}
